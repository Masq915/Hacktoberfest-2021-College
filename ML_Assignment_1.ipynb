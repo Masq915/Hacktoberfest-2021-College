{
  "nbformat": 4,
  "nbformat_minor": 0,
  "metadata": {
    "colab": {
      "name": "ML Assignment 1.ipynb",
      "provenance": [],
      "authorship_tag": "ABX9TyOguTJ54buSSC5/iN7W+InU",
      "include_colab_link": true
    },
    "kernelspec": {
      "name": "python3",
      "display_name": "Python 3"
    },
    "language_info": {
      "name": "python"
    }
  },
  "cells": [
    {
      "cell_type": "markdown",
      "metadata": {
        "id": "view-in-github",
        "colab_type": "text"
      },
      "source": [
        "<a href=\"https://colab.research.google.com/github/pradnya809/Hacktoberfest-2021-College/blob/main/ML_Assignment_1.ipynb\" target=\"_parent\"><img src=\"https://colab.research.google.com/assets/colab-badge.svg\" alt=\"Open In Colab\"/></a>"
      ]
    },
    {
      "cell_type": "code",
      "metadata": {
        "id": "cjtSe-qM6yx4"
      },
      "source": [
        "import numpy as np\n",
        "import pandas as pd"
      ],
      "execution_count": null,
      "outputs": []
    },
    {
      "cell_type": "code",
      "metadata": {
        "id": "sD68pNnY69pJ"
      },
      "source": [
        "data = pd.read_csv('Heart.csv')"
      ],
      "execution_count": null,
      "outputs": []
    },
    {
      "cell_type": "code",
      "metadata": {
        "id": "jKCC3PgzLZt9"
      },
      "source": [
        "data.head(3)"
      ],
      "execution_count": null,
      "outputs": []
    },
    {
      "cell_type": "code",
      "metadata": {
        "id": "5n77V91ELgSg"
      },
      "source": [
        "data.tail(3)"
      ],
      "execution_count": null,
      "outputs": []
    },
    {
      "cell_type": "code",
      "metadata": {
        "id": "cGKniCVlLi8b"
      },
      "source": [
        "data.info"
      ],
      "execution_count": null,
      "outputs": []
    },
    {
      "cell_type": "code",
      "metadata": {
        "id": "QMDiLktbLlRp"
      },
      "source": [
        "data.describe()"
      ],
      "execution_count": null,
      "outputs": []
    },
    {
      "cell_type": "markdown",
      "metadata": {
        "id": "Chsy2-e6_E_5"
      },
      "source": [
        "**a) Shape of Data**"
      ]
    },
    {
      "cell_type": "code",
      "metadata": {
        "id": "B4FAw2JY77YY"
      },
      "source": [
        "print(data.shape)"
      ],
      "execution_count": null,
      "outputs": []
    },
    {
      "cell_type": "markdown",
      "metadata": {
        "id": "Sib9j1I8_OcN"
      },
      "source": [
        "**b) Missing Values**"
      ]
    },
    {
      "cell_type": "code",
      "metadata": {
        "id": "zQao6Z9pCAW0"
      },
      "source": [
        "data.isnull()"
      ],
      "execution_count": null,
      "outputs": []
    },
    {
      "cell_type": "code",
      "metadata": {
        "id": "5E4pMmuhmATy"
      },
      "source": [
        "data.fillna(0)"
      ],
      "execution_count": null,
      "outputs": []
    },
    {
      "cell_type": "code",
      "metadata": {
        "id": "QNIfe4HxmP2w"
      },
      "source": [
        "data.replace(to_replace=np.nan, value =0)"
      ],
      "execution_count": null,
      "outputs": []
    },
    {
      "cell_type": "markdown",
      "metadata": {
        "id": "st-hFIXa-3z3"
      },
      "source": [
        "**c) Data types of each columm**"
      ]
    },
    {
      "cell_type": "code",
      "metadata": {
        "id": "hdDXYDiN91sz"
      },
      "source": [
        "data.dtypes "
      ],
      "execution_count": null,
      "outputs": []
    },
    {
      "cell_type": "markdown",
      "metadata": {
        "id": "4wHXLP-v_WrZ"
      },
      "source": [
        " **d) Find Zero's**"
      ]
    },
    {
      "cell_type": "code",
      "metadata": {
        "id": "3VRMs7U0-0dw"
      },
      "source": [
        "data.all()"
      ],
      "execution_count": null,
      "outputs": []
    },
    {
      "cell_type": "markdown",
      "metadata": {
        "id": "FV-5vm57Bgle"
      },
      "source": [
        "**e) Mean age of Participants**"
      ]
    },
    {
      "cell_type": "code",
      "metadata": {
        "id": "W_-FbMtWBsH7"
      },
      "source": [
        "data.Age.mean()"
      ],
      "execution_count": null,
      "outputs": []
    },
    {
      "cell_type": "markdown",
      "metadata": {
        "id": "fkzf-6w-BtZZ"
      },
      "source": [
        "**Extract all the colums**"
      ]
    },
    {
      "cell_type": "code",
      "metadata": {
        "id": "5POGMNsUK6Zl"
      },
      "source": [
        "print(data[['Age','Sex','ChestPain','RestBP','Chol']])"
      ],
      "execution_count": null,
      "outputs": []
    },
    {
      "cell_type": "markdown",
      "metadata": {
        "id": "9VswRcFeLjzi"
      },
      "source": [
        "**Plotting Graphs**"
      ]
    },
    {
      "cell_type": "code",
      "metadata": {
        "id": "_nhSQndamqNH"
      },
      "source": [
        "from matplotlib import pyplot as plt\n",
        "plt.scatter(data['Age'], data['ChestPain'])\n",
        "plt.xlabel(\"Age\")\n",
        "plt.ylabel(\"ChestPain\")"
      ],
      "execution_count": null,
      "outputs": []
    },
    {
      "cell_type": "code",
      "metadata": {
        "id": "JQka_NvoaB7z"
      },
      "source": [
        "plt.bar(data['Age'], data['ChestPain'])\n",
        "plt.xlabel(\"Age\")\n",
        "plt.ylabel(\"ChestPain\")"
      ],
      "execution_count": null,
      "outputs": []
    },
    {
      "cell_type": "code",
      "metadata": {
        "id": "DUyW4KGZa5ox"
      },
      "source": [
        "plt.hist(data['Age'])"
      ],
      "execution_count": null,
      "outputs": []
    },
    {
      "cell_type": "code",
      "metadata": {
        "id": "UJCFwzs2bFMo"
      },
      "source": [
        "import seaborn as sns"
      ],
      "execution_count": null,
      "outputs": []
    },
    {
      "cell_type": "code",
      "metadata": {
        "id": "8q2mCsBkbKgT"
      },
      "source": [
        "sns.pairplot(data,hue='Sex')"
      ],
      "execution_count": null,
      "outputs": []
    },
    {
      "cell_type": "markdown",
      "metadata": {
        "id": "4mcs8KYdaZfF"
      },
      "source": [
        "**Divide datasets into training(75%) and testing(25%)**"
      ]
    },
    {
      "cell_type": "code",
      "metadata": {
        "id": "ztdXIiDWuxNv"
      },
      "source": [
        "from sklearn.model_selection import train_test_split"
      ],
      "execution_count": null,
      "outputs": []
    },
    {
      "cell_type": "code",
      "metadata": {
        "id": "rHaGE7kRu1hv"
      },
      "source": [
        "X = data[['Age','Sex']]\n",
        "y = data[['ChestPain','RestBP','Chol']]"
      ],
      "execution_count": null,
      "outputs": []
    },
    {
      "cell_type": "code",
      "metadata": {
        "id": "2EKnr3HLLu_8"
      },
      "source": [
        "X_train, X_test, y_train, y_test = train_test_split(X,y,test_size = 0.25)"
      ],
      "execution_count": null,
      "outputs": []
    },
    {
      "cell_type": "code",
      "metadata": {
        "id": "QkkB7e8SuYcl"
      },
      "source": [
        "len(X_train)"
      ],
      "execution_count": null,
      "outputs": []
    },
    {
      "cell_type": "code",
      "metadata": {
        "id": "vohtf-GRxXn9"
      },
      "source": [
        "len(y_test)"
      ],
      "execution_count": null,
      "outputs": []
    }
  ]
}